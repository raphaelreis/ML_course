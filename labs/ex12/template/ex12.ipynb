{
 "cells": [
  {
   "cell_type": "code",
   "execution_count": 1,
   "metadata": {},
   "outputs": [],
   "source": [
    "# Useful starting lines\n",
    "%matplotlib inline\n",
    "import numpy as np\n",
    "import matplotlib.pyplot as plt\n",
    "import torch\n",
    "import torch.nn as nn\n",
    "from torch.autograd import Variable\n",
    "%load_ext autoreload\n",
    "%autoreload 2"
   ]
  },
  {
   "cell_type": "code",
   "execution_count": 2,
   "metadata": {},
   "outputs": [],
   "source": [
    "# Defining a toy dataset\n",
    "x_train = np.array([[3.3], [4.4], [5.5], [6.71], [6.93], [4.168], \n",
    "                    [9.779], [6.182], [7.59], [2.167], [7.042], \n",
    "                    [10.791], [5.313], [7.997], [3.1]], dtype=np.float32)\n",
    "\n",
    "y_train = np.array([[1.7], [2.76], [2.09], [3.19], [1.694], [1.573], \n",
    "                    [3.366], [2.596], [2.53], [1.221], [2.827], \n",
    "                        [3.465], [1.65], [2.904], [1.3]], dtype=np.float32)"
   ]
  },
  {
   "cell_type": "markdown",
   "metadata": {},
   "source": [
    "## Linear regression"
   ]
  },
  {
   "cell_type": "code",
   "execution_count": 23,
   "metadata": {},
   "outputs": [
    {
     "name": "stdout",
     "output_type": "stream",
     "text": [
      "Testing model: an input of [0. 1. 2.] gives a prediction:\n",
      " tensor([0., 0., 0.], grad_fn=<AddBackward0>)\n"
     ]
    }
   ],
   "source": [
    "class MyLinearRegression:\n",
    "    def __init__(self):\n",
    "        # TODO: Define the parameters of the model (weights and biases)\n",
    "        self.weights = Variable(torch.Tensor([0]), requires_grad=True)\n",
    "        self.biases = Variable(torch.Tensor([0]), requires_grad=True)\n",
    "        \n",
    "    def forward(self, x):\n",
    "        # TODO: implement forward computation - compute predictions based on the inputs\n",
    "        return self.weights * x + self.biases\n",
    "    \n",
    "    def parameters(self):\n",
    "        # TODO: this function should return a list of parameters of the model\n",
    "        return [self.weights, self.biases]\n",
    "    \n",
    "    def __call__(self, x):\n",
    "        # Convenience function\n",
    "        return self.forward(x)\n",
    "    \n",
    "\n",
    "def mselossfunc(pred, y):\n",
    "    # TODO: implement the MSE loss function\n",
    "    err = y - pred\n",
    "    return err.pow(2).mean()\n",
    "\n",
    "model = MyLinearRegression()\n",
    "numpy_inputs = np.asarray([0.0, 1.0, 2.0], dtype = np.float32)\n",
    "torch_inputs = Variable(torch.from_numpy(numpy_inputs))\n",
    "torch_outputs = model(torch_inputs)\n",
    "print(\"Testing model: an input of %s gives a prediction:\\n %s\" % (numpy_inputs, torch_outputs))"
   ]
  },
  {
   "cell_type": "code",
   "execution_count": 38,
   "metadata": {},
   "outputs": [],
   "source": [
    "def train(features, labels, model, lossfunc, optimizer, num_epoch):\n",
    "\n",
    "    for epoch in range(num_epoch):\n",
    "        # TODO: Step 1 - create torch variables corresponding to features and labels\n",
    "        inputs = Variable(torch.from_numpy(features))\n",
    "        targets = Variable(torch.from_numpy(labels))\n",
    "\n",
    "        # TODO: Step 2 - compute model predictions and loss\n",
    "        preds = model.forward(inputs)\n",
    "        loss = lossfunc(preds, targets)\n",
    "        \n",
    "        # TODO: Step 3 - do a backward pass and a gradient update step\n",
    "        loss.backward() #compute de gradient\n",
    "        optimizer.step() \n",
    "        optimizer.zero_grad()\n",
    "        \n",
    "        if epoch % 10 == 0:\n",
    "            print ('Epoch [%d/%d], Loss: %.4f' \n",
    "                      %(epoch+1, num_epoch, loss.item()))\n",
    "        \n",
    "        \n",
    "def visualize(x_train, y_train, model):\n",
    "    # A convenience function for visualizing predictions given by the model\n",
    "\n",
    "    predicted = model(Variable(torch.from_numpy(x_train))).data.numpy()\n",
    "    order = np.argsort(x_train, axis = 0)\n",
    "    plt.plot(x_train[order].flatten(), y_train[order].flatten(), 'ro', label='Original data')\n",
    "    plt.plot(x_train[order].flatten(), predicted[order].flatten(), label='Fitted line')\n",
    "    plt.legend()\n",
    "    plt.show()"
   ]
  },
  {
   "cell_type": "code",
   "execution_count": 39,
   "metadata": {},
   "outputs": [
    {
     "name": "stdout",
     "output_type": "stream",
     "text": [
      "Epoch [1/50], Loss: 0.2315\n",
      "Epoch [11/50], Loss: 0.2305\n",
      "Epoch [21/50], Loss: 0.2301\n",
      "Epoch [31/50], Loss: 0.2298\n",
      "Epoch [41/50], Loss: 0.2295\n"
     ]
    },
    {
     "data": {
      "image/png": "[encoded data removed]",
      "text/plain": [
       "<Figure size 432x288 with 1 Axes>"
      ]
     },
     "metadata": {
      "needs_background": "light"
     },
     "output_type": "display_data"
    }
   ],
   "source": [
    "# Training and visualizing predictions made by linear regression model\n",
    "optimizer = torch.optim.SGD(model.parameters(), lr=1e-3)\n",
    "\n",
    "train(features = x_train,\n",
    "      labels = y_train,\n",
    "      model = model,\n",
    "      lossfunc = mselossfunc, \n",
    "      optimizer = optimizer,\n",
    "      num_epoch = 50)\n",
    "visualize(x_train, y_train, model)"
   ]
  },
  {
   "cell_type": "markdown",
   "metadata": {},
   "source": [
    "## Linear Regression (using nn package)"
   ]
  },
  {
   "cell_type": "code",
   "execution_count": 45,
   "metadata": {},
   "outputs": [
    {
     "name": "stdout",
     "output_type": "stream",
     "text": [
      "Epoch [1/100], Loss: 17.0117\n",
      "Epoch [11/100], Loss: 2.9359\n",
      "Epoch [21/100], Loss: 0.6258\n",
      "Epoch [31/100], Loss: 0.2466\n",
      "Epoch [41/100], Loss: 0.1844\n",
      "Epoch [51/100], Loss: 0.1741\n",
      "Epoch [61/100], Loss: 0.1724\n",
      "Epoch [71/100], Loss: 0.1722\n",
      "Epoch [81/100], Loss: 0.1721\n",
      "Epoch [91/100], Loss: 0.1721\n"
     ]
    },
    {
     "data": {
      "image/png": "[encoded data removed]",
      "text/plain": [
       "<Figure size 432x288 with 1 Axes>"
      ]
     },
     "metadata": {
      "needs_background": "light"
     },
     "output_type": "display_data"
    }
   ],
   "source": [
    "class NNLinearRegression(nn.Module):\n",
    "    def __init__(self):\n",
    "        super(NNLinearRegression, self).__init__()\n",
    "        # TODO: Define the parameters of the model (linear nn layer)\n",
    "        self.linear = nn.Linear(1, 1)\n",
    "    \n",
    "    def forward(self, x):\n",
    "        # TODO: implement forward computation\n",
    "        y_pred = self.linear(x)\n",
    "        return y_pred\n",
    "    \n",
    "# Training and visualizing predictions made by linear regression model (nn package)\n",
    "# TODO: use loss function from nn package\n",
    "lossfunc = nn.MSELoss()\n",
    "\n",
    "model = NNLinearRegression()\n",
    "\n",
    "optimizer = torch.optim.SGD(model.parameters(), lr=1e-3)\n",
    "\n",
    "train(features = x_train,\n",
    "      labels = y_train,\n",
    "      model = model,\n",
    "      lossfunc = lossfunc,\n",
    "      optimizer = optimizer,\n",
    "      num_epoch = 100)\n",
    "visualize(x_train, y_train, model)"
   ]
  },
  {
   "cell_type": "markdown",
   "metadata": {},
   "source": [
    "## MLP"
   ]
  },
  {
   "cell_type": "code",
   "execution_count": 69,
   "metadata": {},
   "outputs": [
    {
     "name": "stdout",
     "output_type": "stream",
     "text": [
      "Epoch [1/300], Loss: 4.1011\n",
      "Epoch [11/300], Loss: 0.8195\n",
      "Epoch [21/300], Loss: 0.4186\n",
      "Epoch [31/300], Loss: 0.3850\n",
      "Epoch [41/300], Loss: 0.2715\n",
      "Epoch [51/300], Loss: 0.2181\n",
      "Epoch [61/300], Loss: 0.1894\n",
      "Epoch [71/300], Loss: 0.1770\n",
      "Epoch [81/300], Loss: 0.1763\n",
      "Epoch [91/300], Loss: 0.1744\n",
      "Epoch [101/300], Loss: 0.1739\n",
      "Epoch [111/300], Loss: 0.1735\n",
      "Epoch [121/300], Loss: 0.1731\n",
      "Epoch [131/300], Loss: 0.1727\n",
      "Epoch [141/300], Loss: 0.1723\n",
      "Epoch [151/300], Loss: 0.1720\n",
      "Epoch [161/300], Loss: 0.1716\n",
      "Epoch [171/300], Loss: 0.1713\n",
      "Epoch [181/300], Loss: 0.1709\n",
      "Epoch [191/300], Loss: 0.1706\n",
      "Epoch [201/300], Loss: 0.1702\n",
      "Epoch [211/300], Loss: 0.1698\n",
      "Epoch [221/300], Loss: 0.1694\n",
      "Epoch [231/300], Loss: 0.1689\n",
      "Epoch [241/300], Loss: 0.1685\n",
      "Epoch [251/300], Loss: 0.1681\n",
      "Epoch [261/300], Loss: 0.1676\n",
      "Epoch [271/300], Loss: 0.1672\n",
      "Epoch [281/300], Loss: 0.1668\n",
      "Epoch [291/300], Loss: 0.1665\n"
     ]
    },
    {
     "data": {
      "image/png": "[encoded data removed]",
      "text/plain": [
       "<Figure size 432x288 with 1 Axes>"
      ]
     },
     "metadata": {
      "needs_background": "light"
     },
     "output_type": "display_data"
    }
   ],
   "source": [
    "class MLP(nn.Module):\n",
    "    def __init__(self, hidden_size):\n",
    "        super(MLP, self).__init__()\n",
    "        # TODO: Define parameters / layers of a multi-layered perceptron with one hidden layer\n",
    "        self.linear1 = nn.Linear(1, hidden_size)\n",
    "        self.activation = nn.Sigmoid()\n",
    "        self.linear2 = nn.Linear(hidden_size, 1)\n",
    "    \n",
    "    def forward(self, x):\n",
    "        y_pred = (self.linear2(self.activation(self.linear1(x))))\n",
    "        return y_pred\n",
    "    \n",
    "# TODO: Play with learning rate, hidden size, and optimizer type for multi-layered perceptron\n",
    "hidden_size = 2\n",
    "learning_rate = 1e-1\n",
    "\n",
    "lossfunc = nn.MSELoss()\n",
    "\n",
    "model = MLP(hidden_size = hidden_size)\n",
    "\n",
    "optimizer = torch.optim.Adam(model.parameters(), lr = learning_rate)\n",
    "\n",
    "train(features = x_train,\n",
    "      labels = y_train,\n",
    "      model = model,\n",
    "      lossfunc = lossfunc,\n",
    "      optimizer = optimizer,\n",
    "      num_epoch = 300)\n",
    "visualize(x_train, y_train, model)"
   ]
  },
  {
   "cell_type": "code",
   "execution_count": null,
   "metadata": {},
   "outputs": [],
   "source": []
  }
 ],
 "metadata": {
  "kernelspec": {
   "display_name": "Python 3",
   "language": "python",
   "name": "python3"
  },
  "language_info": {
   "codemirror_mode": {
    "name": "ipython",
    "version": 3
   },
   "file_extension": ".py",
   "mimetype": "text/x-python",
   "name": "python",
   "nbconvert_exporter": "python",
   "pygments_lexer": "ipython3",
   "version": "3.6.7"
  }
 },
 "nbformat": 4,
 "nbformat_minor": 2
}
